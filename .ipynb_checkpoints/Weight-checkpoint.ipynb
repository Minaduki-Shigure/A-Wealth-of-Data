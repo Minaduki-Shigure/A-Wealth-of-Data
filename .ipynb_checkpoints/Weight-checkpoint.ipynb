{
 "cells": [
  {
   "cell_type": "code",
   "execution_count": 1,
   "metadata": {},
   "outputs": [],
   "source": [
    "import numpy as np\n",
    "import pandas as pd\n",
    "import json\n",
    "import ast"
   ]
  },
  {
   "cell_type": "code",
   "execution_count": 2,
   "metadata": {},
   "outputs": [],
   "source": [
    "microwave = pd.read_csv('microwave_alter.csv')\n",
    "hair_dryer = pd.read_csv('hair_dryer_alter.csv')\n",
    "pacifier = pd.read_csv('pacifier_alter.csv')"
   ]
  },
  {
   "cell_type": "code",
   "execution_count": 3,
   "metadata": {},
   "outputs": [],
   "source": [
    "microwave = microwave.fillna(' ')\n",
    "hair_dryer = hair_dryer.fillna(' ')\n",
    "pacifier = pacifier.fillna(' ')"
   ]
  },
  {
   "cell_type": "code",
   "execution_count": 4,
   "metadata": {},
   "outputs": [],
   "source": [
    "def calculate_vote_weight(helpful_votes, total_votes):\n",
    "    \n",
    "    support = helpful_votes / total_votes\n",
    "    \n",
    "    if support < 0.3:\n",
    "        weight = 2 * support + 0.2\n",
    "        type = 0 #customer\n",
    "    elif support < 0.7:\n",
    "        weight = 0.5 * support + 0.65\n",
    "        type = 1 #review\n",
    "    elif support < 0.9:\n",
    "        weight = support + 0.3\n",
    "        type = 1 #review\n",
    "    else:\n",
    "        weight = 3 * support - 1.5\n",
    "        type = 0 #customer\n",
    "    \n",
    "    amp = ((float(total_votes) - 5) * 0.02 + 1)\n",
    "    if amp > 2:\n",
    "        amp = 2\n",
    "    \n",
    "    weight = weight ** amp\n",
    "    \n",
    "    return type, weight"
   ]
  },
  {
   "cell_type": "code",
   "execution_count": 5,
   "metadata": {},
   "outputs": [],
   "source": [
    "def calculate_length_weight(content_length, average_length):\n",
    "    ratio = float(content_length) / average_length\n",
    "    if ratio < 0.8:\n",
    "        weight = 0.125 * ratio + 0.9\n",
    "    else:\n",
    "        weight = 0.5 * ratio + 0.6\n",
    "    if weight > 1.5:\n",
    "        weight = 1.5\n",
    "    return weight"
   ]
  },
  {
   "cell_type": "code",
   "execution_count": 6,
   "metadata": {},
   "outputs": [],
   "source": [
    "def calculate_final_score(star_rating, content_score):\n",
    "    star_score = float(star_rating) / 5\n",
    "    if content_score == -1:\n",
    "        return star_score\n",
    "    if abs(star_score - content_score) > 0.3:\n",
    "        return star_score\n",
    "    else:\n",
    "        return (star_score + content_score) / 2"
   ]
  },
  {
   "cell_type": "code",
   "execution_count": 7,
   "metadata": {},
   "outputs": [],
   "source": [
    "def customer_dict_write(dict, customer_id, customer_weight):\n",
    "    if customer_id in dict:\n",
    "        dict[customer_id] = (dict[customer_id] * customer_weight) ** 0.5\n",
    "    else:\n",
    "        dict[customer_id] = customer_weight    "
   ]
  },
  {
   "cell_type": "code",
   "execution_count": 8,
   "metadata": {},
   "outputs": [],
   "source": [
    "def customer_dict_read(dict, customer_id):\n",
    "    if customer_id in dict:\n",
    "        return dict[customer_id]\n",
    "    else:\n",
    "        return 1.0"
   ]
  },
  {
   "cell_type": "code",
   "execution_count": 9,
   "metadata": {},
   "outputs": [],
   "source": [
    "def judge_weight(row, dict, average_length, average_keywords):\n",
    "    # The vine customers have one and only advantage of boosting their weight to 3.0\n",
    "    # The vine customers shall share no other weight multipliers\n",
    "    if row['vine'] == 'y' or row['vine'] == 'Y':\n",
    "        customer_dict_write(dict, row['customer_id'], 3.0)\n",
    "        return 1.0\n",
    "    \n",
    "    # Initialize the weight\n",
    "    customer_weight = 1.0\n",
    "    review_weight = 1.0\n",
    "    \n",
    "    # If there are more than 5 votes, apply the vote weight multiplier\n",
    "    if row['total_votes'] >= 5:\n",
    "        [vote_type, vote_weight] = calculate_vote_weight(row['helpful_votes'], row['total_votes'])\n",
    "        if vote_type == 0:\n",
    "            customer_weight = customer_weight * vote_weight\n",
    "        else:\n",
    "            review_weight = review_weight * vote_weight\n",
    "        \n",
    "    # Customer weight will be punished if 'customer' is suspected talking nonsense\n",
    "    if len(row['review_body']) > average_length and len(ast.literal_eval(row['keyword'])) < average_keywords / 2:\n",
    "        customer_weight = customer_weight / 2\n",
    "        \n",
    "    # All customer weight multipliers have been applied, if customer weight is no longer 1.0, write the weight into the dictionary\n",
    "    if customer_weight != 1.0:\n",
    "        customer_dict_write(dict, row['customer_id'], customer_weight)\n",
    "    \n",
    "    # Then we go on to judge the review-only weight\n",
    "    # If the purchase is not verified, cut the weight to half\n",
    "    if row['verified_purchase'] == 'n' or row['verified_purchase'] == 'N':\n",
    "        review_weight = review_weight / 2\n",
    "    \n",
    "    # Use the length weight multiplier\n",
    "    review_weight = review_weight * calculate_length_weight(len(row['review_body']), average_length)\n",
    "    \n",
    "    return review_weight"
   ]
  },
  {
   "cell_type": "code",
   "execution_count": 10,
   "metadata": {},
   "outputs": [],
   "source": [
    "def preprocess(df):\n",
    "    df['final_score'] = 0.0\n",
    "    df['weight_review_only'] = 1.0\n",
    "    df['final_weight'] = 1.0"
   ]
  },
  {
   "cell_type": "code",
   "execution_count": 11,
   "metadata": {},
   "outputs": [],
   "source": [
    "def cal_score_weight(df):\n",
    "    preprocess(df)\n",
    "    customer_weight = {}\n",
    "    entry_count = len(df['review_body'])\n",
    "    length_sum = 0\n",
    "    keyword_sum = 0\n",
    "    for index, row in df.iterrows():\n",
    "        df['final_score'][index] = calculate_final_score(row['star_rating'], row['content_score'])\n",
    "        length_sum = length_sum + len(row['review_body'])\n",
    "        keyword_sum = keyword_sum + len(ast.literal_eval(row['keyword']))\n",
    "    average_length = length_sum / entry_count\n",
    "    average_keywords = keyword_sum / entry_count\n",
    "    for index, row in df.iterrows():\n",
    "        df['weight_review_only'][index] = judge_weight(row, customer_weight, average_length, average_keywords)\n",
    "    for index, row in df.iterrows():\n",
    "        df['final_weight'][index] = row['weight_review_only'] * customer_dict_read(customer_weight, row['customer_id'])"
   ]
  },
  {
   "cell_type": "code",
   "execution_count": 12,
   "metadata": {},
   "outputs": [
    {
     "name": "stderr",
     "output_type": "stream",
     "text": [
      "/home/minaduki/.local/lib/python3.6/site-packages/ipykernel_launcher.py:8: SettingWithCopyWarning: \n",
      "A value is trying to be set on a copy of a slice from a DataFrame\n",
      "\n",
      "See the caveats in the documentation: https://pandas.pydata.org/pandas-docs/stable/user_guide/indexing.html#returning-a-view-versus-a-copy\n",
      "  \n",
      "/home/minaduki/.local/lib/python3.6/site-packages/ipykernel_launcher.py:14: SettingWithCopyWarning: \n",
      "A value is trying to be set on a copy of a slice from a DataFrame\n",
      "\n",
      "See the caveats in the documentation: https://pandas.pydata.org/pandas-docs/stable/user_guide/indexing.html#returning-a-view-versus-a-copy\n",
      "  \n",
      "/home/minaduki/.local/lib/python3.6/site-packages/ipykernel_launcher.py:16: SettingWithCopyWarning: \n",
      "A value is trying to be set on a copy of a slice from a DataFrame\n",
      "\n",
      "See the caveats in the documentation: https://pandas.pydata.org/pandas-docs/stable/user_guide/indexing.html#returning-a-view-versus-a-copy\n",
      "  app.launch_new_instance()\n"
     ]
    }
   ],
   "source": [
    "cal_score_weight(microwave)"
   ]
  },
  {
   "cell_type": "code",
   "execution_count": 13,
   "metadata": {},
   "outputs": [],
   "source": [
    "microwave.to_csv('microwave_weight.csv')"
   ]
  },
  {
   "cell_type": "code",
   "execution_count": 14,
   "metadata": {},
   "outputs": [
    {
     "name": "stderr",
     "output_type": "stream",
     "text": [
      "/home/minaduki/.local/lib/python3.6/site-packages/ipykernel_launcher.py:8: SettingWithCopyWarning: \n",
      "A value is trying to be set on a copy of a slice from a DataFrame\n",
      "\n",
      "See the caveats in the documentation: https://pandas.pydata.org/pandas-docs/stable/user_guide/indexing.html#returning-a-view-versus-a-copy\n",
      "  \n",
      "/home/minaduki/.local/lib/python3.6/site-packages/ipykernel_launcher.py:14: SettingWithCopyWarning: \n",
      "A value is trying to be set on a copy of a slice from a DataFrame\n",
      "\n",
      "See the caveats in the documentation: https://pandas.pydata.org/pandas-docs/stable/user_guide/indexing.html#returning-a-view-versus-a-copy\n",
      "  \n",
      "/home/minaduki/.local/lib/python3.6/site-packages/ipykernel_launcher.py:16: SettingWithCopyWarning: \n",
      "A value is trying to be set on a copy of a slice from a DataFrame\n",
      "\n",
      "See the caveats in the documentation: https://pandas.pydata.org/pandas-docs/stable/user_guide/indexing.html#returning-a-view-versus-a-copy\n",
      "  app.launch_new_instance()\n"
     ]
    }
   ],
   "source": [
    "cal_score_weight(hair_dryer)"
   ]
  },
  {
   "cell_type": "code",
   "execution_count": 15,
   "metadata": {},
   "outputs": [],
   "source": [
    "hair_dryer.to_csv('hair_dryer_weight.csv')"
   ]
  },
  {
   "cell_type": "code",
   "execution_count": 16,
   "metadata": {},
   "outputs": [
    {
     "name": "stderr",
     "output_type": "stream",
     "text": [
      "/home/minaduki/.local/lib/python3.6/site-packages/ipykernel_launcher.py:8: SettingWithCopyWarning: \n",
      "A value is trying to be set on a copy of a slice from a DataFrame\n",
      "\n",
      "See the caveats in the documentation: https://pandas.pydata.org/pandas-docs/stable/user_guide/indexing.html#returning-a-view-versus-a-copy\n",
      "  \n",
      "/home/minaduki/.local/lib/python3.6/site-packages/ipykernel_launcher.py:14: SettingWithCopyWarning: \n",
      "A value is trying to be set on a copy of a slice from a DataFrame\n",
      "\n",
      "See the caveats in the documentation: https://pandas.pydata.org/pandas-docs/stable/user_guide/indexing.html#returning-a-view-versus-a-copy\n",
      "  \n",
      "/home/minaduki/.local/lib/python3.6/site-packages/ipykernel_launcher.py:16: SettingWithCopyWarning: \n",
      "A value is trying to be set on a copy of a slice from a DataFrame\n",
      "\n",
      "See the caveats in the documentation: https://pandas.pydata.org/pandas-docs/stable/user_guide/indexing.html#returning-a-view-versus-a-copy\n",
      "  app.launch_new_instance()\n"
     ]
    }
   ],
   "source": [
    "cal_score_weight(pacifier)"
   ]
  },
  {
   "cell_type": "code",
   "execution_count": 17,
   "metadata": {},
   "outputs": [],
   "source": [
    "pacifier.to_csv('pacifier_weight.csv')"
   ]
  }
 ],
 "metadata": {
  "kernelspec": {
   "display_name": "Python 3",
   "language": "python",
   "name": "python3"
  },
  "language_info": {
   "codemirror_mode": {
    "name": "ipython",
    "version": 3
   },
   "file_extension": ".py",
   "mimetype": "text/x-python",
   "name": "python",
   "nbconvert_exporter": "python",
   "pygments_lexer": "ipython3",
   "version": "3.6.9"
  }
 },
 "nbformat": 4,
 "nbformat_minor": 4
}
